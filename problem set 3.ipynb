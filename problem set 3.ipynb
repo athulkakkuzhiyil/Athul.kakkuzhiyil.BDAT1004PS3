{
 "cells": [
  {
   "cell_type": "code",
   "execution_count": 3,
   "id": "cc6a804b",
   "metadata": {},
   "outputs": [],
   "source": [
    "#QN 1\n",
    "\n",
    "#Step 1\n",
    "import pandas as pd\n",
    "\n",
    "#Step 2\n",
    "# Step 2: Import the dataset\n",
    "url = \"https://raw.githubusercontent.com/justmarkham/DAT8/master/data/u.user\"\n",
    "#step 3\n",
    "users = pd.read_csv(url, sep='|', index_col='user_id')"
   ]
  },
  {
   "cell_type": "code",
   "execution_count": 6,
   "id": "1a571acc",
   "metadata": {},
   "outputs": [
    {
     "name": "stdout",
     "output_type": "stream",
     "text": [
      "occupation\n",
      "administrator    38.746835\n",
      "artist           31.392857\n",
      "doctor           43.571429\n",
      "educator         42.010526\n",
      "engineer         36.388060\n",
      "entertainment    29.222222\n",
      "executive        38.718750\n",
      "healthcare       41.562500\n",
      "homemaker        32.571429\n",
      "lawyer           36.750000\n",
      "librarian        40.000000\n",
      "marketing        37.615385\n",
      "none             26.555556\n",
      "other            34.523810\n",
      "programmer       33.121212\n",
      "retired          63.071429\n",
      "salesman         35.666667\n",
      "scientist        35.548387\n",
      "student          22.081633\n",
      "technician       33.148148\n",
      "writer           36.311111\n",
      "Name: age, dtype: float64\n"
     ]
    }
   ],
   "source": [
    "#step 4\n",
    "\n",
    "mean_age_per_occupation = users.groupby('occupation')['age'].mean()\n",
    "print(mean_age_per_occupation)\n"
   ]
  },
  {
   "cell_type": "code",
   "execution_count": 7,
   "id": "75b4c12b",
   "metadata": {},
   "outputs": [
    {
     "name": "stdout",
     "output_type": "stream",
     "text": [
      "occupation\n",
      "doctor           1.000000\n",
      "engineer         0.970149\n",
      "technician       0.962963\n",
      "retired          0.928571\n",
      "programmer       0.909091\n",
      "executive        0.906250\n",
      "scientist        0.903226\n",
      "entertainment    0.888889\n",
      "lawyer           0.833333\n",
      "salesman         0.750000\n",
      "educator         0.726316\n",
      "student          0.693878\n",
      "other            0.657143\n",
      "marketing        0.615385\n",
      "writer           0.577778\n",
      "none             0.555556\n",
      "administrator    0.544304\n",
      "artist           0.535714\n",
      "librarian        0.431373\n",
      "healthcare       0.312500\n",
      "homemaker        0.142857\n",
      "dtype: float64\n"
     ]
    }
   ],
   "source": [
    "#step 5\n",
    "def male_ratio(group):\n",
    "    return (group['gender'] == 'M').sum() / group['gender'].count()\n",
    "\n",
    "male_ratio_per_occupation = users.groupby('occupation').apply(male_ratio).sort_values(ascending=False)\n",
    "print(male_ratio_per_occupation)\n",
    "\n"
   ]
  },
  {
   "cell_type": "code",
   "execution_count": 8,
   "id": "abc68e05",
   "metadata": {},
   "outputs": [
    {
     "name": "stdout",
     "output_type": "stream",
     "text": [
      "               min  max\n",
      "occupation             \n",
      "administrator   21   70\n",
      "artist          19   48\n",
      "doctor          28   64\n",
      "educator        23   63\n",
      "engineer        22   70\n",
      "entertainment   15   50\n",
      "executive       22   69\n",
      "healthcare      22   62\n",
      "homemaker       20   50\n",
      "lawyer          21   53\n",
      "librarian       23   69\n",
      "marketing       24   55\n",
      "none            11   55\n",
      "other           13   64\n",
      "programmer      20   63\n",
      "retired         51   73\n",
      "salesman        18   66\n",
      "scientist       23   55\n",
      "student          7   42\n",
      "technician      21   55\n",
      "writer          18   60\n"
     ]
    }
   ],
   "source": [
    "#step 6\n",
    "min_max_age_per_occupation = users.groupby('occupation')['age'].agg(['min', 'max'])\n",
    "print(min_max_age_per_occupation)\n"
   ]
  },
  {
   "cell_type": "code",
   "execution_count": 9,
   "id": "94e02514",
   "metadata": {},
   "outputs": [
    {
     "name": "stdout",
     "output_type": "stream",
     "text": [
      "occupation     gender\n",
      "administrator  F         40.638889\n",
      "               M         37.162791\n",
      "artist         F         30.307692\n",
      "               M         32.333333\n",
      "doctor         M         43.571429\n",
      "educator       F         39.115385\n",
      "               M         43.101449\n",
      "engineer       F         29.500000\n",
      "               M         36.600000\n",
      "entertainment  F         31.000000\n",
      "               M         29.000000\n",
      "executive      F         44.000000\n",
      "               M         38.172414\n",
      "healthcare     F         39.818182\n",
      "               M         45.400000\n",
      "homemaker      F         34.166667\n",
      "               M         23.000000\n",
      "lawyer         F         39.500000\n",
      "               M         36.200000\n",
      "librarian      F         40.000000\n",
      "               M         40.000000\n",
      "marketing      F         37.200000\n",
      "               M         37.875000\n",
      "none           F         36.500000\n",
      "               M         18.600000\n",
      "other          F         35.472222\n",
      "               M         34.028986\n",
      "programmer     F         32.166667\n",
      "               M         33.216667\n",
      "retired        F         70.000000\n",
      "               M         62.538462\n",
      "salesman       F         27.000000\n",
      "               M         38.555556\n",
      "scientist      F         28.333333\n",
      "               M         36.321429\n",
      "student        F         20.750000\n",
      "               M         22.669118\n",
      "technician     F         38.000000\n",
      "               M         32.961538\n",
      "writer         F         37.631579\n",
      "               M         35.346154\n",
      "Name: age, dtype: float64\n"
     ]
    }
   ],
   "source": [
    "#step 7\n",
    "mean_age_per_occupation_sex = users.groupby(['occupation', 'gender'])['age'].mean()\n",
    "print(mean_age_per_occupation_sex)\n"
   ]
  },
  {
   "cell_type": "code",
   "execution_count": 10,
   "id": "abe32339",
   "metadata": {},
   "outputs": [
    {
     "name": "stdout",
     "output_type": "stream",
     "text": [
      "occupation     gender\n",
      "administrator  M          54.430380\n",
      "               F          45.569620\n",
      "artist         M          53.571429\n",
      "               F          46.428571\n",
      "doctor         M         100.000000\n",
      "educator       M          72.631579\n",
      "               F          27.368421\n",
      "engineer       M          97.014925\n",
      "               F           2.985075\n",
      "entertainment  M          88.888889\n",
      "               F          11.111111\n",
      "executive      M          90.625000\n",
      "               F           9.375000\n",
      "healthcare     F          68.750000\n",
      "               M          31.250000\n",
      "homemaker      F          85.714286\n",
      "               M          14.285714\n",
      "lawyer         M          83.333333\n",
      "               F          16.666667\n",
      "librarian      F          56.862745\n",
      "               M          43.137255\n",
      "marketing      M          61.538462\n",
      "               F          38.461538\n",
      "none           M          55.555556\n",
      "               F          44.444444\n",
      "other          M          65.714286\n",
      "               F          34.285714\n",
      "programmer     M          90.909091\n",
      "               F           9.090909\n",
      "retired        M          92.857143\n",
      "               F           7.142857\n",
      "salesman       M          75.000000\n",
      "               F          25.000000\n",
      "scientist      M          90.322581\n",
      "               F           9.677419\n",
      "student        M          69.387755\n",
      "               F          30.612245\n",
      "technician     M          96.296296\n",
      "               F           3.703704\n",
      "writer         M          57.777778\n",
      "               F          42.222222\n",
      "Name: proportion, dtype: float64\n"
     ]
    }
   ],
   "source": [
    "#step 8\n",
    "gender_percentage_per_occupation = users.groupby('occupation')['gender'].value_counts(normalize=True) * 100\n",
    "print(gender_percentage_per_occupation)\n"
   ]
  },
  {
   "cell_type": "code",
   "execution_count": 11,
   "id": "ef6bae15",
   "metadata": {},
   "outputs": [],
   "source": [
    "# QUESTION 2\n",
    "#EURO TEAMS\n",
    "\n",
    "#STEP1 \n",
    "import pandas as pd\n"
   ]
  },
  {
   "cell_type": "code",
   "execution_count": 14,
   "id": "4a1c8f05",
   "metadata": {},
   "outputs": [],
   "source": [
    "#STEP 2 & 3\n",
    "\n",
    "url = \"https://raw.githubusercontent.com/guipsamora/pandas_exercises/master/02_Filtering_%26_Sorting/Euro12/Euro_2012_stats_TEAM.csv\"\n",
    "euro12 = pd.read_csv(url)\n"
   ]
  },
  {
   "cell_type": "code",
   "execution_count": 15,
   "id": "9c3e1d4d",
   "metadata": {},
   "outputs": [
    {
     "name": "stdout",
     "output_type": "stream",
     "text": [
      "0      4\n",
      "1      4\n",
      "2      4\n",
      "3      5\n",
      "4      3\n",
      "5     10\n",
      "6      5\n",
      "7      6\n",
      "8      2\n",
      "9      2\n",
      "10     6\n",
      "11     1\n",
      "12     5\n",
      "13    12\n",
      "14     5\n",
      "15     2\n",
      "Name: Goals, dtype: int64\n"
     ]
    }
   ],
   "source": [
    "#STEP 4 \n",
    "goal_column = euro12['Goals']\n",
    "print(goal_column)\n"
   ]
  },
  {
   "cell_type": "code",
   "execution_count": 16,
   "id": "554fc5a5",
   "metadata": {},
   "outputs": [
    {
     "name": "stdout",
     "output_type": "stream",
     "text": [
      "16\n"
     ]
    }
   ],
   "source": [
    "#STEP 5\n",
    "num_teams = euro12['Team'].nunique()\n",
    "print(num_teams)\n"
   ]
  },
  {
   "cell_type": "code",
   "execution_count": 17,
   "id": "d6a83560",
   "metadata": {},
   "outputs": [
    {
     "name": "stdout",
     "output_type": "stream",
     "text": [
      "35\n"
     ]
    }
   ],
   "source": [
    "#STEP 6\n",
    "num_columns = euro12.shape[1]\n",
    "print(num_columns)\n"
   ]
  },
  {
   "cell_type": "code",
   "execution_count": 18,
   "id": "e3341e23",
   "metadata": {},
   "outputs": [
    {
     "name": "stdout",
     "output_type": "stream",
     "text": [
      "                   Team  Yellow Cards  Red Cards\n",
      "0               Croatia             9          0\n",
      "1        Czech Republic             7          0\n",
      "2               Denmark             4          0\n",
      "3               England             5          0\n",
      "4                France             6          0\n",
      "5               Germany             4          0\n",
      "6                Greece             9          1\n",
      "7                 Italy            16          0\n",
      "8           Netherlands             5          0\n",
      "9                Poland             7          1\n",
      "10             Portugal            12          0\n",
      "11  Republic of Ireland             6          1\n",
      "12               Russia             6          0\n",
      "13                Spain            11          0\n",
      "14               Sweden             7          0\n",
      "15              Ukraine             5          0\n"
     ]
    }
   ],
   "source": [
    "#STEP 7\n",
    "discipline = euro12[['Team', 'Yellow Cards', 'Red Cards']]\n",
    "print(discipline)\n"
   ]
  },
  {
   "cell_type": "code",
   "execution_count": 19,
   "id": "c8ffe40d",
   "metadata": {},
   "outputs": [
    {
     "name": "stdout",
     "output_type": "stream",
     "text": [
      "                   Team  Yellow Cards  Red Cards\n",
      "6                Greece             9          1\n",
      "9                Poland             7          1\n",
      "11  Republic of Ireland             6          1\n",
      "7                 Italy            16          0\n",
      "10             Portugal            12          0\n",
      "13                Spain            11          0\n",
      "0               Croatia             9          0\n",
      "1        Czech Republic             7          0\n",
      "14               Sweden             7          0\n",
      "4                France             6          0\n",
      "12               Russia             6          0\n",
      "3               England             5          0\n",
      "8           Netherlands             5          0\n",
      "15              Ukraine             5          0\n",
      "2               Denmark             4          0\n",
      "5               Germany             4          0\n"
     ]
    }
   ],
   "source": [
    "#STEP 8\n",
    "discipline_sorted = discipline.sort_values(by=['Red Cards', 'Yellow Cards'], ascending=False)\n",
    "print(discipline_sorted)\n"
   ]
  },
  {
   "cell_type": "code",
   "execution_count": 20,
   "id": "27d9689f",
   "metadata": {},
   "outputs": [
    {
     "name": "stdout",
     "output_type": "stream",
     "text": [
      "7.4375\n"
     ]
    }
   ],
   "source": [
    "#STEP 9\n",
    "mean_yellow_cards = euro12['Yellow Cards'].mean()\n",
    "print(mean_yellow_cards)\n"
   ]
  },
  {
   "cell_type": "code",
   "execution_count": 21,
   "id": "d4e9aa59",
   "metadata": {},
   "outputs": [
    {
     "name": "stdout",
     "output_type": "stream",
     "text": [
      "       Team  Goals  Shots on target  Shots off target Shooting Accuracy  \\\n",
      "5   Germany     10               32                32             47.8%   \n",
      "13    Spain     12               42                33             55.9%   \n",
      "\n",
      "   % Goals-to-shots  Total shots (inc. Blocked)  Hit Woodwork  Penalty goals  \\\n",
      "5             15.6%                          80             2              1   \n",
      "13            16.0%                         100             0              1   \n",
      "\n",
      "    Penalties not scored  ...  Saves made  Saves-to-shots ratio  Fouls Won  \\\n",
      "5                      0  ...          10                 62.6%         63   \n",
      "13                     0  ...          15                 93.8%        102   \n",
      "\n",
      "   Fouls Conceded  Offsides  Yellow Cards  Red Cards  Subs on  Subs off  \\\n",
      "5              49        12             4          0       15        15   \n",
      "13             83        19            11          0       17        17   \n",
      "\n",
      "    Players Used  \n",
      "5             17  \n",
      "13            18  \n",
      "\n",
      "[2 rows x 35 columns]\n"
     ]
    }
   ],
   "source": [
    "#STEP 10\n",
    "teams_more_than_6_goals = euro12[euro12['Goals'] > 6]\n",
    "print(teams_more_than_6_goals)\n"
   ]
  },
  {
   "cell_type": "code",
   "execution_count": 22,
   "id": "05a5205a",
   "metadata": {},
   "outputs": [
    {
     "name": "stdout",
     "output_type": "stream",
     "text": [
      "      Team  Goals  Shots on target  Shots off target Shooting Accuracy  \\\n",
      "5  Germany     10               32                32             47.8%   \n",
      "6   Greece      5                8                18             30.7%   \n",
      "\n",
      "  % Goals-to-shots  Total shots (inc. Blocked)  Hit Woodwork  Penalty goals  \\\n",
      "5            15.6%                          80             2              1   \n",
      "6            19.2%                          32             1              1   \n",
      "\n",
      "   Penalties not scored  ...  Saves made  Saves-to-shots ratio  Fouls Won  \\\n",
      "5                     0  ...          10                 62.6%         63   \n",
      "6                     1  ...          13                 65.1%         67   \n",
      "\n",
      "  Fouls Conceded  Offsides  Yellow Cards  Red Cards  Subs on  Subs off  \\\n",
      "5             49        12             4          0       15        15   \n",
      "6             48        12             9          1       12        12   \n",
      "\n",
      "   Players Used  \n",
      "5            17  \n",
      "6            20  \n",
      "\n",
      "[2 rows x 35 columns]\n"
     ]
    }
   ],
   "source": [
    "#STEP 11\n",
    "teams_starting_with_G = euro12[euro12['Team'].str.startswith('G')]\n",
    "print(teams_starting_with_G)\n"
   ]
  },
  {
   "cell_type": "code",
   "execution_count": 23,
   "id": "4531df68",
   "metadata": {},
   "outputs": [
    {
     "name": "stdout",
     "output_type": "stream",
     "text": [
      "                   Team  Goals  Shots on target  Shots off target  \\\n",
      "0               Croatia      4               13                12   \n",
      "1        Czech Republic      4               13                18   \n",
      "2               Denmark      4               10                10   \n",
      "3               England      5               11                18   \n",
      "4                France      3               22                24   \n",
      "5               Germany     10               32                32   \n",
      "6                Greece      5                8                18   \n",
      "7                 Italy      6               34                45   \n",
      "8           Netherlands      2               12                36   \n",
      "9                Poland      2               15                23   \n",
      "10             Portugal      6               22                42   \n",
      "11  Republic of Ireland      1                7                12   \n",
      "12               Russia      5                9                31   \n",
      "13                Spain     12               42                33   \n",
      "14               Sweden      5               17                19   \n",
      "15              Ukraine      2                7                26   \n",
      "\n",
      "   Shooting Accuracy % Goals-to-shots  Total shots (inc. Blocked)  \n",
      "0              51.9%            16.0%                          32  \n",
      "1              41.9%            12.9%                          39  \n",
      "2              50.0%            20.0%                          27  \n",
      "3              50.0%            17.2%                          40  \n",
      "4              37.9%             6.5%                          65  \n",
      "5              47.8%            15.6%                          80  \n",
      "6              30.7%            19.2%                          32  \n",
      "7              43.0%             7.5%                         110  \n",
      "8              25.0%             4.1%                          60  \n",
      "9              39.4%             5.2%                          48  \n",
      "10             34.3%             9.3%                          82  \n",
      "11             36.8%             5.2%                          28  \n",
      "12             22.5%            12.5%                          59  \n",
      "13             55.9%            16.0%                         100  \n",
      "14             47.2%            13.8%                          39  \n",
      "15             21.2%             6.0%                          38  \n"
     ]
    }
   ],
   "source": [
    "#STEP 12\n",
    "first_7_columns = euro12.iloc[:, :7]\n",
    "print(first_7_columns)\n"
   ]
  },
  {
   "cell_type": "code",
   "execution_count": 24,
   "id": "c5088862",
   "metadata": {},
   "outputs": [
    {
     "name": "stdout",
     "output_type": "stream",
     "text": [
      "                   Team  Goals  Shots on target  Shots off target  \\\n",
      "0               Croatia      4               13                12   \n",
      "1        Czech Republic      4               13                18   \n",
      "2               Denmark      4               10                10   \n",
      "3               England      5               11                18   \n",
      "4                France      3               22                24   \n",
      "5               Germany     10               32                32   \n",
      "6                Greece      5                8                18   \n",
      "7                 Italy      6               34                45   \n",
      "8           Netherlands      2               12                36   \n",
      "9                Poland      2               15                23   \n",
      "10             Portugal      6               22                42   \n",
      "11  Republic of Ireland      1                7                12   \n",
      "12               Russia      5                9                31   \n",
      "13                Spain     12               42                33   \n",
      "14               Sweden      5               17                19   \n",
      "15              Ukraine      2                7                26   \n",
      "\n",
      "   Shooting Accuracy % Goals-to-shots  Total shots (inc. Blocked)  \\\n",
      "0              51.9%            16.0%                          32   \n",
      "1              41.9%            12.9%                          39   \n",
      "2              50.0%            20.0%                          27   \n",
      "3              50.0%            17.2%                          40   \n",
      "4              37.9%             6.5%                          65   \n",
      "5              47.8%            15.6%                          80   \n",
      "6              30.7%            19.2%                          32   \n",
      "7              43.0%             7.5%                         110   \n",
      "8              25.0%             4.1%                          60   \n",
      "9              39.4%             5.2%                          48   \n",
      "10             34.3%             9.3%                          82   \n",
      "11             36.8%             5.2%                          28   \n",
      "12             22.5%            12.5%                          59   \n",
      "13             55.9%            16.0%                         100   \n",
      "14             47.2%            13.8%                          39   \n",
      "15             21.2%             6.0%                          38   \n",
      "\n",
      "    Hit Woodwork  Penalty goals  Penalties not scored  ...  Clean Sheets  \\\n",
      "0              0              0                     0  ...             0   \n",
      "1              0              0                     0  ...             1   \n",
      "2              1              0                     0  ...             1   \n",
      "3              0              0                     0  ...             2   \n",
      "4              1              0                     0  ...             1   \n",
      "5              2              1                     0  ...             1   \n",
      "6              1              1                     1  ...             1   \n",
      "7              2              0                     0  ...             2   \n",
      "8              2              0                     0  ...             0   \n",
      "9              0              0                     0  ...             0   \n",
      "10             6              0                     0  ...             2   \n",
      "11             0              0                     0  ...             0   \n",
      "12             2              0                     0  ...             0   \n",
      "13             0              1                     0  ...             5   \n",
      "14             3              0                     0  ...             1   \n",
      "15             0              0                     0  ...             0   \n",
      "\n",
      "    Blocks  Goals conceded Saves made  Saves-to-shots ratio  Fouls Won  \\\n",
      "0       10               3         13                 81.3%         41   \n",
      "1       10               6          9                 60.1%         53   \n",
      "2       10               5         10                 66.7%         25   \n",
      "3       29               3         22                 88.1%         43   \n",
      "4        7               5          6                 54.6%         36   \n",
      "5       11               6         10                 62.6%         63   \n",
      "6       23               7         13                 65.1%         67   \n",
      "7       18               7         20                 74.1%        101   \n",
      "8        9               5         12                 70.6%         35   \n",
      "9        8               3          6                 66.7%         48   \n",
      "10      11               4         10                 71.5%         73   \n",
      "11      23               9         17                 65.4%         43   \n",
      "12       8               3         10                 77.0%         34   \n",
      "13       8               1         15                 93.8%        102   \n",
      "14      12               5          8                 61.6%         35   \n",
      "15       4               4         13                 76.5%         48   \n",
      "\n",
      "    Fouls Conceded  Offsides  Yellow Cards  Red Cards  \n",
      "0               62         2             9          0  \n",
      "1               73         8             7          0  \n",
      "2               38         8             4          0  \n",
      "3               45         6             5          0  \n",
      "4               51         5             6          0  \n",
      "5               49        12             4          0  \n",
      "6               48        12             9          1  \n",
      "7               89        16            16          0  \n",
      "8               30         3             5          0  \n",
      "9               56         3             7          1  \n",
      "10              90        10            12          0  \n",
      "11              51        11             6          1  \n",
      "12              43         4             6          0  \n",
      "13              83        19            11          0  \n",
      "14              51         7             7          0  \n",
      "15              31         4             5          0  \n",
      "\n",
      "[16 rows x 32 columns]\n"
     ]
    }
   ],
   "source": [
    "#STEP 13\n",
    "all_except_last_3_columns = euro12.iloc[:, :-3]\n",
    "print(all_except_last_3_columns)\n"
   ]
  },
  {
   "cell_type": "code",
   "execution_count": 25,
   "id": "87d7967f",
   "metadata": {},
   "outputs": [
    {
     "name": "stdout",
     "output_type": "stream",
     "text": [
      "       Team Shooting Accuracy\n",
      "3   England             50.0%\n",
      "7     Italy             43.0%\n",
      "12   Russia             22.5%\n"
     ]
    }
   ],
   "source": [
    "#STEP 14\n",
    "shooting_accuracy = euro12.loc[euro12['Team'].isin(['England', 'Italy', 'Russia']), ['Team', 'Shooting Accuracy']]\n",
    "print(shooting_accuracy)\n"
   ]
  },
  {
   "cell_type": "code",
   "execution_count": 26,
   "id": "16bd4061",
   "metadata": {},
   "outputs": [],
   "source": [
    "#QUESTION 3\n",
    "\n",
    "#STEP 1\n",
    "import pandas as pd\n",
    "import numpy as np\n"
   ]
  },
  {
   "cell_type": "code",
   "execution_count": 27,
   "id": "59fec47d",
   "metadata": {},
   "outputs": [],
   "source": [
    "#STEP 2\n",
    "series1 = pd.Series(np.random.randint(1, 5, size=100))\n",
    "series2 = pd.Series(np.random.randint(1, 4, size=100))\n",
    "series3 = pd.Series(np.random.randint(10000, 30001, size=100))\n"
   ]
  },
  {
   "cell_type": "code",
   "execution_count": 28,
   "id": "bf961123",
   "metadata": {},
   "outputs": [],
   "source": [
    "#STEP 3\n",
    "data = {'bedrs': series1, 'bathrs': series2, 'price_sqr_meter': series3}\n",
    "housing_df = pd.DataFrame(data)\n"
   ]
  },
  {
   "cell_type": "code",
   "execution_count": 29,
   "id": "db348874",
   "metadata": {},
   "outputs": [],
   "source": [
    "#STEP 4\n",
    "housing_df.columns = ['bedrs', 'bathrs', 'price_sqr_meter']\n"
   ]
  },
  {
   "cell_type": "code",
   "execution_count": 30,
   "id": "66e671f7",
   "metadata": {},
   "outputs": [],
   "source": [
    "#STEP 5\n",
    "bigcolumn = pd.concat([series1, series2, series3], ignore_index=True)\n",
    "bigcolumn_df = pd.DataFrame(bigcolumn, columns=['bigcolumn'])\n"
   ]
  },
  {
   "cell_type": "code",
   "execution_count": 31,
   "id": "b4b9e135",
   "metadata": {},
   "outputs": [
    {
     "name": "stdout",
     "output_type": "stream",
     "text": [
      "False\n"
     ]
    }
   ],
   "source": [
    "#STEP 6\n",
    "print(bigcolumn_df.index.max() == 99)\n"
   ]
  },
  {
   "cell_type": "code",
   "execution_count": 33,
   "id": "1fbfbc22",
   "metadata": {},
   "outputs": [],
   "source": [
    "#STEP 7\n",
    "bigcolumn_df.reset_index(drop=True, inplace=True)\n"
   ]
  },
  {
   "cell_type": "code",
   "execution_count": 34,
   "id": "d4569bae",
   "metadata": {},
   "outputs": [],
   "source": [
    "#QUESTION 5\n",
    "\n",
    "#STEP 1\n",
    "import pandas as pd\n"
   ]
  },
  {
   "cell_type": "code",
   "execution_count": 36,
   "id": "84688be5",
   "metadata": {},
   "outputs": [],
   "source": [
    "#STEP 2 & 3\n",
    "url = \"https://raw.githubusercontent.com/justmarkham/DAT8/master/data/chipotle.tsv\"\n",
    "chipo = pd.read_csv(url, sep='\\t')\n"
   ]
  },
  {
   "cell_type": "code",
   "execution_count": 37,
   "id": "7a4fea65",
   "metadata": {},
   "outputs": [
    {
     "name": "stdout",
     "output_type": "stream",
     "text": [
      "   order_id  quantity                              item_name  \\\n",
      "0         1         1           Chips and Fresh Tomato Salsa   \n",
      "1         1         1                                   Izze   \n",
      "2         1         1                       Nantucket Nectar   \n",
      "3         1         1  Chips and Tomatillo-Green Chili Salsa   \n",
      "4         2         2                           Chicken Bowl   \n",
      "5         3         1                           Chicken Bowl   \n",
      "6         3         1                          Side of Chips   \n",
      "7         4         1                          Steak Burrito   \n",
      "8         4         1                       Steak Soft Tacos   \n",
      "9         5         1                          Steak Burrito   \n",
      "\n",
      "                                  choice_description item_price  \n",
      "0                                                NaN     $2.39   \n",
      "1                                       [Clementine]     $3.39   \n",
      "2                                            [Apple]     $3.39   \n",
      "3                                                NaN     $2.39   \n",
      "4  [Tomatillo-Red Chili Salsa (Hot), [Black Beans...    $16.98   \n",
      "5  [Fresh Tomato Salsa (Mild), [Rice, Cheese, Sou...    $10.98   \n",
      "6                                                NaN     $1.69   \n",
      "7  [Tomatillo Red Chili Salsa, [Fajita Vegetables...    $11.75   \n",
      "8  [Tomatillo Green Chili Salsa, [Pinto Beans, Ch...     $9.25   \n",
      "9  [Fresh Tomato Salsa, [Rice, Black Beans, Pinto...     $9.25   \n"
     ]
    }
   ],
   "source": [
    "#STEP 4\n",
    "print(chipo.head(10))\n",
    "\n",
    "\n"
   ]
  },
  {
   "cell_type": "code",
   "execution_count": 38,
   "id": "0121f938",
   "metadata": {},
   "outputs": [
    {
     "name": "stdout",
     "output_type": "stream",
     "text": [
      "4622\n"
     ]
    }
   ],
   "source": [
    "#STEP 5\n",
    "num_observations = len(chipo)\n",
    "print(num_observations)\n"
   ]
  },
  {
   "cell_type": "code",
   "execution_count": 39,
   "id": "63a74eb7",
   "metadata": {},
   "outputs": [
    {
     "name": "stdout",
     "output_type": "stream",
     "text": [
      "5\n"
     ]
    }
   ],
   "source": [
    "#STEP 6\n",
    "num_columns = chipo.shape[1]\n",
    "print(num_columns)\n"
   ]
  },
  {
   "cell_type": "code",
   "execution_count": 40,
   "id": "0fa627d4",
   "metadata": {},
   "outputs": [
    {
     "name": "stdout",
     "output_type": "stream",
     "text": [
      "Index(['order_id', 'quantity', 'item_name', 'choice_description',\n",
      "       'item_price'],\n",
      "      dtype='object')\n"
     ]
    }
   ],
   "source": [
    "#STEP 7\n",
    "print(chipo.columns)\n"
   ]
  },
  {
   "cell_type": "code",
   "execution_count": 41,
   "id": "4ee3f5ab",
   "metadata": {},
   "outputs": [
    {
     "name": "stdout",
     "output_type": "stream",
     "text": [
      "RangeIndex(start=0, stop=4622, step=1)\n"
     ]
    }
   ],
   "source": [
    "#STEP 8\n",
    "print(chipo.index)\n"
   ]
  },
  {
   "cell_type": "code",
   "execution_count": 42,
   "id": "07c57b20",
   "metadata": {},
   "outputs": [
    {
     "name": "stdout",
     "output_type": "stream",
     "text": [
      "Chicken Bowl\n"
     ]
    }
   ],
   "source": [
    "#STEP 9\n",
    "most_ordered_item = chipo['item_name'].value_counts().idxmax()\n",
    "print(most_ordered_item)\n"
   ]
  },
  {
   "cell_type": "code",
   "execution_count": 43,
   "id": "35de7324",
   "metadata": {},
   "outputs": [
    {
     "name": "stdout",
     "output_type": "stream",
     "text": [
      "761\n"
     ]
    }
   ],
   "source": [
    "#STEP 10\n",
    "num_most_ordered_item = chipo[chipo['item_name'] == most_ordered_item]['quantity'].sum()\n",
    "print(num_most_ordered_item)\n"
   ]
  },
  {
   "cell_type": "code",
   "execution_count": 44,
   "id": "da13d760",
   "metadata": {},
   "outputs": [
    {
     "name": "stdout",
     "output_type": "stream",
     "text": [
      "[Diet Coke]\n"
     ]
    }
   ],
   "source": [
    "#STEP 11\n",
    "most_ordered_choice = chipo['choice_description'].value_counts().idxmax()\n",
    "print(most_ordered_choice)\n"
   ]
  },
  {
   "cell_type": "code",
   "execution_count": 45,
   "id": "36e9af48",
   "metadata": {},
   "outputs": [
    {
     "name": "stdout",
     "output_type": "stream",
     "text": [
      "4972\n"
     ]
    }
   ],
   "source": [
    "#STEP 12\n",
    "total_items_ordered = chipo['quantity'].sum()\n",
    "print(total_items_ordered)\n"
   ]
  },
  {
   "cell_type": "code",
   "execution_count": 49,
   "id": "ca409e10",
   "metadata": {},
   "outputs": [
    {
     "name": "stdout",
     "output_type": "stream",
     "text": [
      "float64\n",
      "0     2.39\n",
      "1     3.39\n",
      "2     3.39\n",
      "3     2.39\n",
      "4    16.98\n",
      "Name: item_price, dtype: float64\n"
     ]
    }
   ],
   "source": [
    "#STEP 13\n",
    "print(chipo['item_price'].dtype)\n",
    "print(chipo['item_price'].head())\n"
   ]
  },
  {
   "cell_type": "code",
   "execution_count": 51,
   "id": "7f194882",
   "metadata": {},
   "outputs": [],
   "source": [
    "chipo['item_price'] = chipo['item_price'].astype(float)\n"
   ]
  },
  {
   "cell_type": "code",
   "execution_count": 53,
   "id": "42e7b290",
   "metadata": {},
   "outputs": [
    {
     "name": "stdout",
     "output_type": "stream",
     "text": [
      "float64\n"
     ]
    }
   ],
   "source": [
    "print(chipo['item_price'].dtype)\n"
   ]
  },
  {
   "cell_type": "code",
   "execution_count": 54,
   "id": "de47d8bd",
   "metadata": {},
   "outputs": [
    {
     "name": "stdout",
     "output_type": "stream",
     "text": [
      "39237.02\n"
     ]
    }
   ],
   "source": [
    "#STEP 14\n",
    "revenue = (chipo['quantity'] * chipo['item_price']).sum()\n",
    "print(revenue)\n"
   ]
  },
  {
   "cell_type": "code",
   "execution_count": 55,
   "id": "ea6c6578",
   "metadata": {},
   "outputs": [
    {
     "name": "stdout",
     "output_type": "stream",
     "text": [
      "1834\n"
     ]
    }
   ],
   "source": [
    "#STEP 15\n",
    "num_orders = chipo['order_id'].nunique()\n",
    "print(num_orders)\n"
   ]
  },
  {
   "cell_type": "code",
   "execution_count": 56,
   "id": "378f4255",
   "metadata": {},
   "outputs": [
    {
     "name": "stdout",
     "output_type": "stream",
     "text": [
      "21.39423118865867\n"
     ]
    }
   ],
   "source": [
    "#STEP 16\n",
    "average_revenue_per_order = revenue / num_orders\n",
    "print(average_revenue_per_order)\n"
   ]
  },
  {
   "cell_type": "code",
   "execution_count": 57,
   "id": "2fbb0b8b",
   "metadata": {},
   "outputs": [
    {
     "name": "stdout",
     "output_type": "stream",
     "text": [
      "50\n"
     ]
    }
   ],
   "source": [
    "#STEP 17\n",
    "num_different_items = chipo['item_name'].nunique()\n",
    "print(num_different_items)\n"
   ]
  },
  {
   "cell_type": "code",
   "execution_count": 58,
   "id": "534ab05b",
   "metadata": {},
   "outputs": [],
   "source": [
    "#QUESTION 6\n",
    "\n",
    "#STEP 1\n",
    "import pandas as pd\n",
    "import matplotlib.pyplot as plt\n"
   ]
  },
  {
   "cell_type": "code",
   "execution_count": 60,
   "id": "fc01df29",
   "metadata": {},
   "outputs": [],
   "source": [
    "#STEP 2\n",
    "\n",
    "file_path = \"C:/Users/athul/OneDrive/Desktop/PROBLEM SET 3/us-marriages-divorces-1867-2014.csv\"\n",
    "\n",
    "data = pd.read_csv(file_path)\n"
   ]
  },
  {
   "cell_type": "code",
   "execution_count": 63,
   "id": "b4c84b0b",
   "metadata": {},
   "outputs": [],
   "source": [
    "#STEP 3\n",
    "filtered_data = data[(data['Year'] >= 1867) & (data['Year'] <= 2014)]\n"
   ]
  },
  {
   "cell_type": "code",
   "execution_count": 64,
   "id": "bcbe9c71",
   "metadata": {},
   "outputs": [
    {
     "name": "stdout",
     "output_type": "stream",
     "text": [
      "   Year  Marriages  Divorces  Population  Marriages_per_1000  \\\n",
      "0  1867   357000.0   10000.0    36970000                 9.7   \n",
      "1  1868   345000.0   10000.0    37885000                 9.1   \n",
      "2  1869   348000.0   11000.0    38870000                 9.0   \n",
      "3  1870   352000.0   11000.0    39905000                 8.8   \n",
      "4  1871   359000.0   12000.0    41010000                 8.8   \n",
      "\n",
      "   Divorces_per_1000  \n",
      "0                0.3  \n",
      "1                0.3  \n",
      "2                0.3  \n",
      "3                0.3  \n",
      "4                0.3  \n"
     ]
    }
   ],
   "source": [
    "print(filtered_data.head())\n"
   ]
  },
  {
   "cell_type": "code",
   "execution_count": 65,
   "id": "c930ec8e",
   "metadata": {},
   "outputs": [
    {
     "data": {
      "image/png": "[encoded data removed]",
      "text/plain": [
       "<Figure size 1000x600 with 1 Axes>"
      ]
     },
     "metadata": {},
     "output_type": "display_data"
    }
   ],
   "source": [
    "#STEP 4\n",
    "plt.figure(figsize=(10, 6))\n",
    "\n",
    "plt.plot(filtered_data['Year'], filtered_data['Marriages_per_1000'], label='Marriages per capita')\n",
    "plt.plot(filtered_data['Year'], filtered_data['Divorces_per_1000'], label='Divorces per capita')\n",
    "\n",
    "plt.xlabel('Year')\n",
    "plt.ylabel('Number per Capita')\n",
    "plt.title('Number of Marriages and Divorces per Capita in the U.S. (1867-2014)')\n",
    "plt.legend()\n",
    "\n",
    "plt.grid(True)\n",
    "plt.show()\n"
   ]
  },
  {
   "cell_type": "code",
   "execution_count": 66,
   "id": "dee0ea69",
   "metadata": {},
   "outputs": [],
   "source": [
    "#QUESTION 7\n",
    "#STEP 1\n",
    "import pandas as pd\n",
    "import matplotlib.pyplot as plt\n"
   ]
  },
  {
   "cell_type": "code",
   "execution_count": 67,
   "id": "7904c0c9",
   "metadata": {},
   "outputs": [],
   "source": [
    "#STEP 2\n",
    "\n",
    "file_path = \"C:/Users/athul/OneDrive/Desktop/PROBLEM SET 3/us-marriages-divorces-1867-2014.csv\"\n",
    "data = pd.read_csv(file_path)\n"
   ]
  },
  {
   "cell_type": "code",
   "execution_count": 69,
   "id": "e102a5db",
   "metadata": {},
   "outputs": [
    {
     "name": "stdout",
     "output_type": "stream",
     "text": [
      "     Year  Marriages  Divorces  Population  Marriages_per_1000  \\\n",
      "33   1900   709000.0   56000.0    76094000                 9.3   \n",
      "83   1950  1667000.0  385000.0   151684000                11.0   \n",
      "133  2000  2315000.0  944000.0   282398000                 8.2   \n",
      "\n",
      "     Divorces_per_1000  \n",
      "33                 0.7  \n",
      "83                 2.5  \n",
      "133                3.3  \n"
     ]
    }
   ],
   "source": [
    "#STEP 3\n",
    "years_of_interest = [1900, 1950, 2000]\n",
    "filtered_data = data[data['Year'].isin(years_of_interest)]\n",
    "print(filtered_data.head())\n",
    "\n"
   ]
  },
  {
   "cell_type": "code",
   "execution_count": 70,
   "id": "46174ee1",
   "metadata": {},
   "outputs": [
    {
     "data": {
      "image/png": "[encoded data removed]",
      "text/plain": [
       "<Figure size 1000x600 with 1 Axes>"
      ]
     },
     "metadata": {},
     "output_type": "display_data"
    }
   ],
   "source": [
    "#STEP 4\n",
    "plt.figure(figsize=(10, 6))\n",
    "\n",
    "plt.bar(filtered_data['Year'] - 0.2, filtered_data['Marriages_per_1000'], width=0.4, label='Marriages per capita')\n",
    "plt.bar(filtered_data['Year'] + 0.2, filtered_data['Divorces_per_1000'], width=0.4, label='Divorces per capita')\n",
    "\n",
    "plt.xlabel('Year')\n",
    "plt.ylabel('Number per Capita')\n",
    "plt.title('Number of Marriages and Divorces per Capita in the U.S. (1900, 1950, 2000)')\n",
    "plt.xticks(years_of_interest)\n",
    "plt.legend()\n",
    "\n",
    "plt.grid(axis='y')\n",
    "plt.show()\n"
   ]
  },
  {
   "cell_type": "code",
   "execution_count": 71,
   "id": "565d05b4",
   "metadata": {},
   "outputs": [],
   "source": [
    "#QUESTION 8\n",
    "\n",
    "#STEP 1\n",
    "import pandas as pd\n",
    "import matplotlib.pyplot as plt\n"
   ]
  },
  {
   "cell_type": "code",
   "execution_count": 73,
   "id": "de20b1b0",
   "metadata": {},
   "outputs": [],
   "source": [
    "#STEP 2\n",
    "\n",
    "file_path = \"C:/Users/athul/OneDrive/Desktop/PROBLEM SET 3/actor_kill_counts.csv\"\n",
    "\n",
    "actors_df = pd.read_csv(file_path)\n"
   ]
  },
  {
   "cell_type": "code",
   "execution_count": 80,
   "id": "d57916c9",
   "metadata": {},
   "outputs": [
    {
     "name": "stdout",
     "output_type": "stream",
     "text": [
      "                   Actor  Count\n",
      "0  Arnold Schwarzenegger    369\n",
      "1           Chow Yun-Fat    295\n",
      "7     Sylvester Stallone    267\n",
      "4         Dolph Lundgren    239\n",
      "8    Tomisaburo Wakayama    226\n"
     ]
    }
   ],
   "source": [
    "#STEP 3\n",
    "actors_df_sorted = actors_df.sort_values(by='Count', ascending=False)\n",
    "\n",
    "print(actors_df_sorted.head())\n"
   ]
  },
  {
   "cell_type": "code",
   "execution_count": 81,
   "id": "477a19bd",
   "metadata": {},
   "outputs": [
    {
     "data": {
      "image/png": "[encoded data removed]",
      "text/plain": [
       "<Figure size 1000x600 with 1 Axes>"
      ]
     },
     "metadata": {},
     "output_type": "display_data"
    }
   ],
   "source": [
    "#STEP 4\n",
    "plt.figure(figsize=(10, 6))\n",
    "\n",
    "plt.barh(actors_df_sorted['Actor'], actors_df_sorted['Count'], color='skyblue')\n",
    "plt.xlabel('Kill Count')\n",
    "plt.ylabel('Actor')\n",
    "plt.title('Deadliest Actors in Hollywood')\n",
    "plt.xticks(rotation=45)\n",
    "\n",
    "# Label each bar with the corresponding actor's name\n",
    "for index, value in enumerate(actors_df_sorted['Count']):\n",
    "    plt.text(value, index, str(value))\n",
    "\n",
    "plt.show()\n",
    "\n",
    "\n"
   ]
  },
  {
   "cell_type": "code",
   "execution_count": 82,
   "id": "66cf1c42",
   "metadata": {},
   "outputs": [],
   "source": [
    "#QUESTION 9\n",
    "\n",
    "#STEP 1\n",
    "import pandas as pd\n",
    "import matplotlib.pyplot as plt\n"
   ]
  },
  {
   "cell_type": "code",
   "execution_count": 83,
   "id": "5c90e3fb",
   "metadata": {},
   "outputs": [],
   "source": [
    "#STEP 2\n",
    "\n",
    "file_path = r\"C:\\Users\\athul\\OneDrive\\Desktop\\PROBLEM SET 3\\roman-emperor-reigns.csv\"\n",
    "emperors_df = pd.read_csv(file_path)\n"
   ]
  },
  {
   "cell_type": "code",
   "execution_count": 87,
   "id": "cbe97e60",
   "metadata": {},
   "outputs": [
    {
     "name": "stdout",
     "output_type": "stream",
     "text": [
      "Number of emperors assassinated: 22\n"
     ]
    }
   ],
   "source": [
    "#STEP 3\n",
    "\n",
    "num_assassinated = (emperors_df['Cause_of_Death'] == 'Assassinated').sum()\n",
    "print(\"Number of emperors assassinated:\", num_assassinated)\n",
    "\n",
    "\n"
   ]
  },
  {
   "cell_type": "code",
   "execution_count": 89,
   "id": "de6bec3d",
   "metadata": {},
   "outputs": [
    {
     "name": "stdout",
     "output_type": "stream",
     "text": [
      "Total number of emperors: 68\n"
     ]
    }
   ],
   "source": [
    "#STEP 4\n",
    "total_emperors = len(emperors_df)\n",
    "print(\"Total number of emperors:\", total_emperors)\n",
    "\n"
   ]
  },
  {
   "cell_type": "code",
   "execution_count": 93,
   "id": "5cd0625a",
   "metadata": {},
   "outputs": [
    {
     "name": "stdout",
     "output_type": "stream",
     "text": [
      "Fraction of emperors assassinated: 0.3235294117647059\n"
     ]
    }
   ],
   "source": [
    "#STEP 5\n",
    "\n",
    "fraction_assassinated = num_assassinated / total_emperors\n",
    "print(\"Fraction of emperors assassinated:\", fraction_assassinated)\n",
    "\n",
    "\n"
   ]
  },
  {
   "cell_type": "code",
   "execution_count": 95,
   "id": "0da39ebc",
   "metadata": {},
   "outputs": [
    {
     "data": {
      "image/png": "[encoded data removed]",
      "text/plain": [
       "<Figure size 800x800 with 1 Axes>"
      ]
     },
     "metadata": {},
     "output_type": "display_data"
    }
   ],
   "source": [
    "#STEP 6\n",
    "labels = ['Assassinated', 'Not Assassinated']\n",
    "sizes = [num_assassinated, total_emperors - num_assassinated]\n",
    "colors = ['lightcoral', 'lightskyblue']\n",
    "\n",
    "plt.figure(figsize=(8, 8))\n",
    "plt.pie(sizes, labels=labels, colors=colors, autopct='%1.1f%%', startangle=140)\n",
    "plt.axis('equal')  \n",
    "plt.title('Fraction of Roman Emperors Assassinated')\n",
    "plt.show()\n"
   ]
  },
  {
   "cell_type": "code",
   "execution_count": 96,
   "id": "4e6f5195",
   "metadata": {},
   "outputs": [],
   "source": [
    "#QUESTION 10\n",
    "\n",
    "#STEP 1\n",
    "import pandas as pd\n",
    "import matplotlib.pyplot as plt\n"
   ]
  },
  {
   "cell_type": "code",
   "execution_count": 97,
   "id": "bcd40bdc",
   "metadata": {},
   "outputs": [],
   "source": [
    "#STEP 2\n",
    "\n",
    "# Load the dataset containing arcade revenue and Computer Science PhD data\n",
    "file_path = r\"C:\\Users\\athul\\OneDrive\\Desktop\\PROBLEM SET 3\\arcade-revenue-vs-cs-doctorates.csv\"\n",
    "data = pd.read_csv(file_path)\n",
    "\n",
    "\n"
   ]
  },
  {
   "cell_type": "code",
   "execution_count": 99,
   "id": "092104a5",
   "metadata": {},
   "outputs": [
    {
     "name": "stdout",
     "output_type": "stream",
     "text": [
      "   Year  Total Arcade Revenue (billions)  \\\n",
      "0  2000                            1.196   \n",
      "1  2001                            1.176   \n",
      "2  2002                            1.269   \n",
      "3  2003                            1.240   \n",
      "4  2004                            1.307   \n",
      "\n",
      "   Computer Science Doctorates Awarded (US)  \n",
      "0                                       861  \n",
      "1                                       830  \n",
      "2                                       809  \n",
      "3                                       867  \n",
      "4                                       948  \n"
     ]
    }
   ],
   "source": [
    "#STEP 3\n",
    "data = data[(data['Year'] >= 2000) & (data['Year'] <= 2009)]\n",
    "print(data.head())\n",
    "\n"
   ]
  },
  {
   "cell_type": "code",
   "execution_count": 101,
   "id": "7454c775",
   "metadata": {},
   "outputs": [
    {
     "data": {
      "image/png": "[encoded data removed]",
      "text/plain": [
       "<Figure size 1000x600 with 1 Axes>"
      ]
     },
     "metadata": {},
     "output_type": "display_data"
    }
   ],
   "source": [
    "#STEP 4\n",
    "plt.figure(figsize=(10, 6))\n",
    "\n",
    "# Scatter plot with each point colored according to its year\n",
    "for year in range(2000, 2010):\n",
    "    year_data = data[data['Year'] == year]\n",
    "    plt.scatter(year_data['Total Arcade Revenue (billions)'], year_data['Computer Science Doctorates Awarded (US)'], label=str(year))\n",
    "\n",
    "plt.xlabel('Total Arcade Revenue (in billions)')\n",
    "plt.ylabel('Computer Science PhDs Awarded')\n",
    "plt.title('Relationship between Total Arcade Revenue and Computer Science PhDs (2000-2009)')\n",
    "plt.legend(title='Year')\n",
    "plt.grid(True)\n",
    "\n",
    "plt.show()\n"
   ]
  },
  {
   "cell_type": "code",
   "execution_count": null,
   "id": "695e7a09",
   "metadata": {},
   "outputs": [],
   "source": []
  }
 ],
 "metadata": {
  "kernelspec": {
   "display_name": "Python 3 (ipykernel)",
   "language": "python",
   "name": "python3"
  },
  "language_info": {
   "codemirror_mode": {
    "name": "ipython",
    "version": 3
   },
   "file_extension": ".py",
   "mimetype": "text/x-python",
   "name": "python",
   "nbconvert_exporter": "python",
   "pygments_lexer": "ipython3",
   "version": "3.11.5"
  }
 },
 "nbformat": 4,
 "nbformat_minor": 5
}
